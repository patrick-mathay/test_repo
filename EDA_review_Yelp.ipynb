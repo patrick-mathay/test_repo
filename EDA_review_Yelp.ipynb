{
 "cells": [
  {
   "cell_type": "markdown",
   "metadata": {},
   "source": [
    "Importación de librerias"
   ]
  },
  {
   "cell_type": "code",
   "execution_count": 2,
   "metadata": {},
   "outputs": [],
   "source": [
    "import pandas as pd\n",
    "from pandas import json_normalize # Importamos la función json_normalize de pandas para trabajar con datos JSON anidados. \n",
    "import json as js \n",
    "import matplotlib.pyplot as plt\n"
   ]
  },
  {
   "cell_type": "markdown",
   "metadata": {},
   "source": [
    "# Análisis EDA para el archivo \"review.json\" de Yelp"
   ]
  },
  {
   "cell_type": "markdown",
   "metadata": {},
   "source": [
    "#### Importar los datos"
   ]
  },
  {
   "cell_type": "code",
   "execution_count": 4,
   "metadata": {},
   "outputs": [],
   "source": [
    "# Debido al tamaño del archivo se extrae sólo el primer millón de registros:\n",
    "num_registros = 1000000"
   ]
  },
  {
   "cell_type": "code",
   "execution_count": 5,
   "metadata": {},
   "outputs": [],
   "source": [
    "# Lee sólo el número de registros indicado\n",
    "df = pd.read_json(r'C:\\Users\\Sofi\\Desktop\\Henry\\LABS\\Borrador_PF\\PF\\Data\\Yelp\\review.json', lines=True, nrows=num_registros)"
   ]
  },
  {
   "cell_type": "code",
   "execution_count": 6,
   "metadata": {},
   "outputs": [
    {
     "data": {
      "text/html": [
       "<div>\n",
       "<style scoped>\n",
       "    .dataframe tbody tr th:only-of-type {\n",
       "        vertical-align: middle;\n",
       "    }\n",
       "\n",
       "    .dataframe tbody tr th {\n",
       "        vertical-align: top;\n",
       "    }\n",
       "\n",
       "    .dataframe thead th {\n",
       "        text-align: right;\n",
       "    }\n",
       "</style>\n",
       "<table border=\"1\" class=\"dataframe\">\n",
       "  <thead>\n",
       "    <tr style=\"text-align: right;\">\n",
       "      <th></th>\n",
       "      <th>review_id</th>\n",
       "      <th>user_id</th>\n",
       "      <th>business_id</th>\n",
       "      <th>stars</th>\n",
       "      <th>useful</th>\n",
       "      <th>funny</th>\n",
       "      <th>cool</th>\n",
       "      <th>text</th>\n",
       "      <th>date</th>\n",
       "    </tr>\n",
       "  </thead>\n",
       "  <tbody>\n",
       "    <tr>\n",
       "      <th>0</th>\n",
       "      <td>KU_O5udG6zpxOg-VcAEodg</td>\n",
       "      <td>mh_-eMZ6K5RLWhZyISBhwA</td>\n",
       "      <td>XQfwVwDr-v0ZS3_CbbE5Xw</td>\n",
       "      <td>3</td>\n",
       "      <td>0</td>\n",
       "      <td>0</td>\n",
       "      <td>0</td>\n",
       "      <td>If you decide to eat here, just be aware it is...</td>\n",
       "      <td>2018-07-07 22:09:11</td>\n",
       "    </tr>\n",
       "    <tr>\n",
       "      <th>1</th>\n",
       "      <td>BiTunyQ73aT9WBnpR9DZGw</td>\n",
       "      <td>OyoGAe7OKpv6SyGZT5g77Q</td>\n",
       "      <td>7ATYjTIgM3jUlt4UM3IypQ</td>\n",
       "      <td>5</td>\n",
       "      <td>1</td>\n",
       "      <td>0</td>\n",
       "      <td>1</td>\n",
       "      <td>I've taken a lot of spin classes over the year...</td>\n",
       "      <td>2012-01-03 15:28:18</td>\n",
       "    </tr>\n",
       "    <tr>\n",
       "      <th>2</th>\n",
       "      <td>saUsX_uimxRlCVr67Z4Jig</td>\n",
       "      <td>8g_iMtfSiwikVnbP2etR0A</td>\n",
       "      <td>YjUWPpI6HXG530lwP-fb2A</td>\n",
       "      <td>3</td>\n",
       "      <td>0</td>\n",
       "      <td>0</td>\n",
       "      <td>0</td>\n",
       "      <td>Family diner. Had the buffet. Eclectic assortm...</td>\n",
       "      <td>2014-02-05 20:30:30</td>\n",
       "    </tr>\n",
       "    <tr>\n",
       "      <th>3</th>\n",
       "      <td>AqPFMleE6RsU23_auESxiA</td>\n",
       "      <td>_7bHUi9Uuf5__HHc_Q8guQ</td>\n",
       "      <td>kxX2SOes4o-D3ZQBkiMRfA</td>\n",
       "      <td>5</td>\n",
       "      <td>1</td>\n",
       "      <td>0</td>\n",
       "      <td>1</td>\n",
       "      <td>Wow!  Yummy, different,  delicious.   Our favo...</td>\n",
       "      <td>2015-01-04 00:01:03</td>\n",
       "    </tr>\n",
       "    <tr>\n",
       "      <th>4</th>\n",
       "      <td>Sx8TMOWLNuJBWer-0pcmoA</td>\n",
       "      <td>bcjbaE6dDog4jkNY91ncLQ</td>\n",
       "      <td>e4Vwtrqf-wpJfwesgvdgxQ</td>\n",
       "      <td>4</td>\n",
       "      <td>1</td>\n",
       "      <td>0</td>\n",
       "      <td>1</td>\n",
       "      <td>Cute interior and owner (?) gave us tour of up...</td>\n",
       "      <td>2017-01-14 20:54:15</td>\n",
       "    </tr>\n",
       "    <tr>\n",
       "      <th>...</th>\n",
       "      <td>...</td>\n",
       "      <td>...</td>\n",
       "      <td>...</td>\n",
       "      <td>...</td>\n",
       "      <td>...</td>\n",
       "      <td>...</td>\n",
       "      <td>...</td>\n",
       "      <td>...</td>\n",
       "      <td>...</td>\n",
       "    </tr>\n",
       "    <tr>\n",
       "      <th>999995</th>\n",
       "      <td>t-2o35kr7Q9DSaeuKhaDuQ</td>\n",
       "      <td>oX7o1TH0PHUWp9r9ry9_vw</td>\n",
       "      <td>jLn69WQupjsDKrbPw_nlGQ</td>\n",
       "      <td>3</td>\n",
       "      <td>0</td>\n",
       "      <td>1</td>\n",
       "      <td>0</td>\n",
       "      <td>Never really had any issues here other than th...</td>\n",
       "      <td>2017-11-15 09:43:07</td>\n",
       "    </tr>\n",
       "    <tr>\n",
       "      <th>999996</th>\n",
       "      <td>fLIwWCvdul9PNWYfJt5QWA</td>\n",
       "      <td>v8wlapFKVLs2qTYCGhCdiw</td>\n",
       "      <td>t6v8g8UeNiq3O2GoEc7R4Q</td>\n",
       "      <td>4</td>\n",
       "      <td>0</td>\n",
       "      <td>0</td>\n",
       "      <td>0</td>\n",
       "      <td>Fish recently moved a couple of doors down the...</td>\n",
       "      <td>2014-09-03 18:27:33</td>\n",
       "    </tr>\n",
       "    <tr>\n",
       "      <th>999997</th>\n",
       "      <td>ETAiy6wEM-r9ve4SKDhBpg</td>\n",
       "      <td>rLlYc1RzIBnOmnX3AbpEYw</td>\n",
       "      <td>ZYRul0i1bhOjirHED6Kd0w</td>\n",
       "      <td>3</td>\n",
       "      <td>0</td>\n",
       "      <td>0</td>\n",
       "      <td>0</td>\n",
       "      <td>I've been to South House around a dozen or so ...</td>\n",
       "      <td>2016-02-20 22:25:29</td>\n",
       "    </tr>\n",
       "    <tr>\n",
       "      <th>999998</th>\n",
       "      <td>8OgvSXuc6KjAt2fSz9LuzA</td>\n",
       "      <td>eEH-8CEPU5ndPxDGzVfHiQ</td>\n",
       "      <td>onGXKwnxPLtKnO8yqQMPSA</td>\n",
       "      <td>1</td>\n",
       "      <td>1</td>\n",
       "      <td>0</td>\n",
       "      <td>1</td>\n",
       "      <td>Wow! I am shocked at these reviews. I have tri...</td>\n",
       "      <td>2010-06-27 02:17:30</td>\n",
       "    </tr>\n",
       "    <tr>\n",
       "      <th>999999</th>\n",
       "      <td>TQoVzNXqDkiDXgzlw8cyaQ</td>\n",
       "      <td>HYmGwYXvcYmW7dDjuWKJfw</td>\n",
       "      <td>54vEFcAri3Wj6cdM4ljDBA</td>\n",
       "      <td>4</td>\n",
       "      <td>2</td>\n",
       "      <td>1</td>\n",
       "      <td>0</td>\n",
       "      <td>headed to St. Louis for a little getaway with ...</td>\n",
       "      <td>2012-11-05 03:25:02</td>\n",
       "    </tr>\n",
       "  </tbody>\n",
       "</table>\n",
       "<p>1000000 rows × 9 columns</p>\n",
       "</div>"
      ],
      "text/plain": [
       "                     review_id                 user_id  \\\n",
       "0       KU_O5udG6zpxOg-VcAEodg  mh_-eMZ6K5RLWhZyISBhwA   \n",
       "1       BiTunyQ73aT9WBnpR9DZGw  OyoGAe7OKpv6SyGZT5g77Q   \n",
       "2       saUsX_uimxRlCVr67Z4Jig  8g_iMtfSiwikVnbP2etR0A   \n",
       "3       AqPFMleE6RsU23_auESxiA  _7bHUi9Uuf5__HHc_Q8guQ   \n",
       "4       Sx8TMOWLNuJBWer-0pcmoA  bcjbaE6dDog4jkNY91ncLQ   \n",
       "...                        ...                     ...   \n",
       "999995  t-2o35kr7Q9DSaeuKhaDuQ  oX7o1TH0PHUWp9r9ry9_vw   \n",
       "999996  fLIwWCvdul9PNWYfJt5QWA  v8wlapFKVLs2qTYCGhCdiw   \n",
       "999997  ETAiy6wEM-r9ve4SKDhBpg  rLlYc1RzIBnOmnX3AbpEYw   \n",
       "999998  8OgvSXuc6KjAt2fSz9LuzA  eEH-8CEPU5ndPxDGzVfHiQ   \n",
       "999999  TQoVzNXqDkiDXgzlw8cyaQ  HYmGwYXvcYmW7dDjuWKJfw   \n",
       "\n",
       "                   business_id  stars  useful  funny  cool  \\\n",
       "0       XQfwVwDr-v0ZS3_CbbE5Xw      3       0      0     0   \n",
       "1       7ATYjTIgM3jUlt4UM3IypQ      5       1      0     1   \n",
       "2       YjUWPpI6HXG530lwP-fb2A      3       0      0     0   \n",
       "3       kxX2SOes4o-D3ZQBkiMRfA      5       1      0     1   \n",
       "4       e4Vwtrqf-wpJfwesgvdgxQ      4       1      0     1   \n",
       "...                        ...    ...     ...    ...   ...   \n",
       "999995  jLn69WQupjsDKrbPw_nlGQ      3       0      1     0   \n",
       "999996  t6v8g8UeNiq3O2GoEc7R4Q      4       0      0     0   \n",
       "999997  ZYRul0i1bhOjirHED6Kd0w      3       0      0     0   \n",
       "999998  onGXKwnxPLtKnO8yqQMPSA      1       1      0     1   \n",
       "999999  54vEFcAri3Wj6cdM4ljDBA      4       2      1     0   \n",
       "\n",
       "                                                     text                date  \n",
       "0       If you decide to eat here, just be aware it is... 2018-07-07 22:09:11  \n",
       "1       I've taken a lot of spin classes over the year... 2012-01-03 15:28:18  \n",
       "2       Family diner. Had the buffet. Eclectic assortm... 2014-02-05 20:30:30  \n",
       "3       Wow!  Yummy, different,  delicious.   Our favo... 2015-01-04 00:01:03  \n",
       "4       Cute interior and owner (?) gave us tour of up... 2017-01-14 20:54:15  \n",
       "...                                                   ...                 ...  \n",
       "999995  Never really had any issues here other than th... 2017-11-15 09:43:07  \n",
       "999996  Fish recently moved a couple of doors down the... 2014-09-03 18:27:33  \n",
       "999997  I've been to South House around a dozen or so ... 2016-02-20 22:25:29  \n",
       "999998  Wow! I am shocked at these reviews. I have tri... 2010-06-27 02:17:30  \n",
       "999999  headed to St. Louis for a little getaway with ... 2012-11-05 03:25:02  \n",
       "\n",
       "[1000000 rows x 9 columns]"
      ]
     },
     "execution_count": 6,
     "metadata": {},
     "output_type": "execute_result"
    }
   ],
   "source": [
    "df"
   ]
  },
  {
   "cell_type": "code",
   "execution_count": 5,
   "metadata": {},
   "outputs": [
    {
     "data": {
      "text/plain": [
       "(1000000, 9)"
      ]
     },
     "execution_count": 5,
     "metadata": {},
     "output_type": "execute_result"
    }
   ],
   "source": [
    "df.shape"
   ]
  },
  {
   "cell_type": "markdown",
   "metadata": {},
   "source": [
    "## Tipo de datos del df"
   ]
  },
  {
   "cell_type": "markdown",
   "metadata": {},
   "source": [
    "Crear una función para analizar el tipo de datos proporcionados"
   ]
  },
  {
   "cell_type": "code",
   "execution_count": 6,
   "metadata": {},
   "outputs": [],
   "source": [
    "# Función para revisar el tipo de dato de cada variable del dataset \n",
    "def tipo_datos(df):\n",
    "    mi_dict = {\"nombre_campo\": [], \"tipo_datos\": []}\n",
    "    for columna in df.columns:\n",
    "        mi_dict[\"nombre_campo\"].append(columna)\n",
    "        mi_dict[\"tipo_datos\"].append(df[columna].apply(type).unique())\n",
    "    df_info = pd.DataFrame(mi_dict)\n",
    "    return df_info"
   ]
  },
  {
   "cell_type": "code",
   "execution_count": 7,
   "metadata": {},
   "outputs": [
    {
     "data": {
      "text/html": [
       "<div>\n",
       "<style scoped>\n",
       "    .dataframe tbody tr th:only-of-type {\n",
       "        vertical-align: middle;\n",
       "    }\n",
       "\n",
       "    .dataframe tbody tr th {\n",
       "        vertical-align: top;\n",
       "    }\n",
       "\n",
       "    .dataframe thead th {\n",
       "        text-align: right;\n",
       "    }\n",
       "</style>\n",
       "<table border=\"1\" class=\"dataframe\">\n",
       "  <thead>\n",
       "    <tr style=\"text-align: right;\">\n",
       "      <th></th>\n",
       "      <th>nombre_campo</th>\n",
       "      <th>tipo_datos</th>\n",
       "    </tr>\n",
       "  </thead>\n",
       "  <tbody>\n",
       "    <tr>\n",
       "      <th>0</th>\n",
       "      <td>review_id</td>\n",
       "      <td>[&lt;class 'str'&gt;]</td>\n",
       "    </tr>\n",
       "    <tr>\n",
       "      <th>1</th>\n",
       "      <td>user_id</td>\n",
       "      <td>[&lt;class 'str'&gt;]</td>\n",
       "    </tr>\n",
       "    <tr>\n",
       "      <th>2</th>\n",
       "      <td>business_id</td>\n",
       "      <td>[&lt;class 'str'&gt;]</td>\n",
       "    </tr>\n",
       "    <tr>\n",
       "      <th>3</th>\n",
       "      <td>stars</td>\n",
       "      <td>[&lt;class 'int'&gt;]</td>\n",
       "    </tr>\n",
       "    <tr>\n",
       "      <th>4</th>\n",
       "      <td>useful</td>\n",
       "      <td>[&lt;class 'int'&gt;]</td>\n",
       "    </tr>\n",
       "    <tr>\n",
       "      <th>5</th>\n",
       "      <td>funny</td>\n",
       "      <td>[&lt;class 'int'&gt;]</td>\n",
       "    </tr>\n",
       "    <tr>\n",
       "      <th>6</th>\n",
       "      <td>cool</td>\n",
       "      <td>[&lt;class 'int'&gt;]</td>\n",
       "    </tr>\n",
       "    <tr>\n",
       "      <th>7</th>\n",
       "      <td>text</td>\n",
       "      <td>[&lt;class 'str'&gt;]</td>\n",
       "    </tr>\n",
       "    <tr>\n",
       "      <th>8</th>\n",
       "      <td>date</td>\n",
       "      <td>[&lt;class 'pandas._libs.tslibs.timestamps.Timest...</td>\n",
       "    </tr>\n",
       "  </tbody>\n",
       "</table>\n",
       "</div>"
      ],
      "text/plain": [
       "  nombre_campo                                         tipo_datos\n",
       "0    review_id                                    [<class 'str'>]\n",
       "1      user_id                                    [<class 'str'>]\n",
       "2  business_id                                    [<class 'str'>]\n",
       "3        stars                                    [<class 'int'>]\n",
       "4       useful                                    [<class 'int'>]\n",
       "5        funny                                    [<class 'int'>]\n",
       "6         cool                                    [<class 'int'>]\n",
       "7         text                                    [<class 'str'>]\n",
       "8         date  [<class 'pandas._libs.tslibs.timestamps.Timest..."
      ]
     },
     "execution_count": 7,
     "metadata": {},
     "output_type": "execute_result"
    }
   ],
   "source": [
    "tipo_datos(df) "
   ]
  },
  {
   "cell_type": "markdown",
   "metadata": {},
   "source": [
    "## Valores Nulos"
   ]
  },
  {
   "cell_type": "code",
   "execution_count": 8,
   "metadata": {},
   "outputs": [
    {
     "data": {
      "text/plain": [
       "review_id      0\n",
       "user_id        0\n",
       "business_id    0\n",
       "stars          0\n",
       "useful         0\n",
       "funny          0\n",
       "cool           0\n",
       "text           0\n",
       "date           0\n",
       "dtype: int64"
      ]
     },
     "execution_count": 8,
     "metadata": {},
     "output_type": "execute_result"
    }
   ],
   "source": [
    "df.isnull().sum()"
   ]
  },
  {
   "cell_type": "markdown",
   "metadata": {},
   "source": [
    "## Valores Faltantes"
   ]
  },
  {
   "cell_type": "code",
   "execution_count": 9,
   "metadata": {},
   "outputs": [
    {
     "data": {
      "text/plain": [
       "review_id      0\n",
       "user_id        0\n",
       "business_id    0\n",
       "stars          0\n",
       "useful         0\n",
       "funny          0\n",
       "cool           0\n",
       "text           0\n",
       "date           0\n",
       "dtype: int64"
      ]
     },
     "execution_count": 9,
     "metadata": {},
     "output_type": "execute_result"
    }
   ],
   "source": [
    "df.isna().sum()"
   ]
  },
  {
   "cell_type": "markdown",
   "metadata": {},
   "source": [
    "## Valores Duplicados"
   ]
  },
  {
   "cell_type": "code",
   "execution_count": 10,
   "metadata": {},
   "outputs": [
    {
     "name": "stdout",
     "output_type": "stream",
     "text": [
      "Cantidad de filas duplicadas: 0\n"
     ]
    }
   ],
   "source": [
    "# Verificar si hay filas duplicadas en todo el DataFrame\n",
    "duplicados = df.duplicated()\n",
    "# Cuenta la cantidad de filas duplicadas\n",
    "cantidad_duplicados = duplicados.sum()\n",
    "# Muestra la cantidad de filas duplicadas\n",
    "print(\"Cantidad de filas duplicadas:\", cantidad_duplicados)"
   ]
  },
  {
   "cell_type": "markdown",
   "metadata": {},
   "source": [
    "## Outliers"
   ]
  },
  {
   "cell_type": "code",
   "execution_count": 12,
   "metadata": {},
   "outputs": [
    {
     "data": {
      "image/png": "[encoded data removed]",
      "text/plain": [
       "<Figure size 640x480 with 1 Axes>"
      ]
     },
     "metadata": {},
     "output_type": "display_data"
    }
   ],
   "source": [
    "# Visualización con Diagrama de Boxplot:\n",
    "df.boxplot()\n",
    "plt.show()"
   ]
  },
  {
   "cell_type": "markdown",
   "metadata": {},
   "source": [
    "Se observan outliers en las columnas 'useful' y 'funny', por lo tanto se decide explorar en detalle los valores contenidos en estas columnas: "
   ]
  },
  {
   "cell_type": "code",
   "execution_count": 15,
   "metadata": {},
   "outputs": [],
   "source": [
    "# Obtén los valores únicos y su conteo para la columna 'stars'\n",
    "valores_unicos_stars = df['stars'].unique()\n",
    "conteo_valores_stars = df['stars'].value_counts()\n",
    "\n",
    "# Obtén los valores únicos y su conteo para la columna 'useful'\n",
    "valores_unicos_useful = df['useful'].unique()\n",
    "conteo_valores_useful = df['useful'].value_counts()\n",
    "\n",
    "# Obtén los valores únicos y su conteo para la columna 'funny'\n",
    "valores_unicos_funny = df['funny'].unique()\n",
    "conteo_valores_funny = df['funny'].value_counts()\n",
    "\n",
    "# Obtén los valores únicos y su conteo para la columna 'cool'\n",
    "valores_unicos_cool = df['cool'].unique()\n",
    "conteo_valores_cool = df['cool'].value_counts()"
   ]
  },
  {
   "cell_type": "code",
   "execution_count": 16,
   "metadata": {},
   "outputs": [
    {
     "name": "stdout",
     "output_type": "stream",
     "text": [
      "Valores únicos y su conteo para la columna 'stars':\n",
      "[3 5 4 1 2]\n",
      "stars\n",
      "5    458612\n",
      "4    221897\n",
      "1    138625\n",
      "3    102954\n",
      "2     77912\n",
      "Name: count, dtype: int64\n",
      "\n",
      "Valores únicos y su conteo para la columna 'useful':\n",
      "[  0   1   2   4   3   7  15   5  14   6  11  13   8   9  10  12  16  23\n",
      "  18  19  34  17  20  61  31  91  54  21  22  28  32  25  29  48  33  27\n",
      "  46  24 171  30  44  26  70  42  40  39  35  38 320  41  45  37  75  36\n",
      "  53  74  49  60  43  51  52  63  58 131  55 175  47  56  72 305 112  71\n",
      "  68  69 179 124  50  73  66  57  65 121  82 135 132  87  98  93 118 539\n",
      " 163  79 150 102  59  89 142  64  96  78  86  92 109 100 120 151  77 110\n",
      " 111 160  84  80  62 114 346 152 190 123 115  81 217 199 197  85 149 166\n",
      " 105 168 169  88 292 146  76 225 176 144 127 126 143 177 129 187  95 106\n",
      " 148 153 156]\n",
      "useful\n",
      "0      562838\n",
      "1      217272\n",
      "2       95675\n",
      "3       47406\n",
      "4       25729\n",
      "        ...  \n",
      "346         1\n",
      "152         1\n",
      "190         1\n",
      "115         1\n",
      "156         1\n",
      "Name: count, Length: 147, dtype: int64\n",
      "\n",
      "Valores únicos y su conteo para la columna 'funny':\n",
      "[  0   2   1   5   3   4   6  12  19   9   7  10  11  13  26   8  25  18\n",
      "  15  21  16  14  24  17  22  20  38  27  23  98  30  32  28  39  76  33\n",
      "  40  44 222 284  46  42  34  29  37  41  88  35  48  43  54  45  52  58\n",
      "  31  68  67  65 123  62 113 242  61  57  47  80  53  85  75 141  36  97\n",
      " 105  79  78  74 133  93 100  71 254  63 132  49 126  83  86  81  59  55\n",
      "  92]\n",
      "funny\n",
      "0      847490\n",
      "1       96745\n",
      "2       27418\n",
      "3       11474\n",
      "4        5718\n",
      "        ...  \n",
      "48          1\n",
      "61          1\n",
      "242         1\n",
      "113         1\n",
      "92          1\n",
      "Name: count, Length: 91, dtype: int64\n",
      "\n",
      "Valores únicos y su conteo para la columna 'cool':\n",
      "[  0   1   2   3   4   9   5   6   7   8  12  11  13  10  44  15  14  32\n",
      "  17  19  23  21  26  22  27  29  25  49  31  16  33  24  18  41  42  20\n",
      "  37  35  45  28  63  79  30  48  43  40  52  47  34  46  38  36 164  70\n",
      "  59  39  73  75  50  61  94  74 130  58  87  88  56 121  53 146  60  64\n",
      "  51  82 142  97  66  67  62  77  86  89  54  83  95 125 153 105 118 111\n",
      "  68 139 109  85  80  76  55 122 145  91 152 132  99 155  93 140  81  92\n",
      " 172 123 112 106 102]\n",
      "cool\n",
      "0      776706\n",
      "1      142508\n",
      "2       41345\n",
      "3       15857\n",
      "4        7651\n",
      "        ...  \n",
      "83          1\n",
      "130         1\n",
      "88          1\n",
      "146         1\n",
      "102         1\n",
      "Name: count, Length: 113, dtype: int64\n"
     ]
    }
   ],
   "source": [
    "# Muestra los resultados\n",
    "print(\"Valores únicos y su conteo para la columna 'stars':\")\n",
    "print(valores_unicos_stars)\n",
    "print(conteo_valores_stars)\n",
    "\n",
    "print(\"\\nValores únicos y su conteo para la columna 'useful':\")\n",
    "print(valores_unicos_useful)\n",
    "print(conteo_valores_useful)\n",
    "\n",
    "print(\"\\nValores únicos y su conteo para la columna 'funny':\")\n",
    "print(valores_unicos_funny)\n",
    "print(conteo_valores_funny)\n",
    "\n",
    "print(\"\\nValores únicos y su conteo para la columna 'cool':\")\n",
    "print(valores_unicos_cool)\n",
    "print(conteo_valores_cool)"
   ]
  },
  {
   "cell_type": "markdown",
   "metadata": {},
   "source": [
    "## Valores únicos"
   ]
  },
  {
   "cell_type": "code",
   "execution_count": 27,
   "metadata": {},
   "outputs": [
    {
     "name": "stdout",
     "output_type": "stream",
     "text": [
      "Cantidad de ususarios': 542003\n"
     ]
    }
   ],
   "source": [
    "# Calcular la cantidad de valores únicos en la columna 'user_id'\n",
    "valores_unicos_user_id = df['user_id'].nunique()\n",
    "print(\"Cantidad de ususarios':\", valores_unicos_user_id)"
   ]
  },
  {
   "cell_type": "code",
   "execution_count": 28,
   "metadata": {},
   "outputs": [
    {
     "name": "stdout",
     "output_type": "stream",
     "text": [
      "Cantidad de negocios': 27095\n"
     ]
    }
   ],
   "source": [
    "# Calcula la cantidad de valores únicos en la columna 'business_id'\n",
    "valores_unicos_user_id = df['business_id'].nunique()\n",
    "print(\"Cantidad de negocios':\", valores_unicos_user_id)"
   ]
  },
  {
   "cell_type": "markdown",
   "metadata": {},
   "source": [
    "## Análisis de excelencia"
   ]
  },
  {
   "cell_type": "code",
   "execution_count": 17,
   "metadata": {},
   "outputs": [
    {
     "name": "stdout",
     "output_type": "stream",
     "text": [
      "Top 10 de los registros más frecuentes en la columna 'business_id':\n",
      "business_id\n",
      "GBTPC53ZrG1ZBY3DT8Mbcw    4661\n",
      "PY9GRfzr4nTZeINf346QOw    2715\n",
      "SZU9c8V2GuREDN5KgyHFJw    2444\n",
      "UCMSWPqzXjd7QHq7v8PJjQ    2230\n",
      "vN6v8m4DO45Z4pp8yxxF_w    2120\n",
      "W4ZEKkva9HpAdZG88juwyQ    2116\n",
      "8uF-bhJFgT4Tn6DTb27viA    2110\n",
      "pSmOH4a3HNNpYM82J5ycLA    2091\n",
      "Zi-F-YvyVOK0k5QD7lrLOg    2008\n",
      "g04aAvgol7IW8buqSbT4xA    1891\n",
      "Name: count, dtype: int64\n"
     ]
    }
   ],
   "source": [
    "# Obtener un top 10 de los valores más frecuentes en la columna 'business_id'\n",
    "top_10_business_id = df['business_id'].value_counts().head(10)\n",
    "print(\"Top 10 de los registros más frecuentes en la columna 'business_id':\")\n",
    "print(top_10_business_id)"
   ]
  },
  {
   "cell_type": "code",
   "execution_count": 7,
   "metadata": {},
   "outputs": [
    {
     "name": "stdout",
     "output_type": "stream",
     "text": [
      "                 date  year\n",
      "0 2018-07-07 22:09:11  2018\n",
      "1 2012-01-03 15:28:18  2012\n",
      "2 2014-02-05 20:30:30  2014\n",
      "3 2015-01-04 00:01:03  2015\n",
      "4 2017-01-14 20:54:15  2017\n"
     ]
    }
   ],
   "source": [
    "# Extraemos enuna nueva columna sólo los años de la columna 'date'\n",
    "df['date'] = pd.to_datetime(df['date'])\n",
    "df['year'] = df['date'].dt.year\n",
    "print(df[['date', 'year']].head())"
   ]
  },
  {
   "cell_type": "markdown",
   "metadata": {},
   "source": [
    "## Análisis de fechas"
   ]
  },
  {
   "cell_type": "code",
   "execution_count": 8,
   "metadata": {},
   "outputs": [
    {
     "name": "stdout",
     "output_type": "stream",
     "text": [
      "Valores únicos de la columna 'year':\n",
      "[2018 2012 2014 2015 2017 2016 2009 2011 2013 2008 2010 2005 2007 2006\n",
      " 2019 2020 2021 2022]\n"
     ]
    }
   ],
   "source": [
    "# Obtener los valores únicos de la nueva columna 'year'\n",
    "valores_unicos_year = df['year'].unique()\n",
    "print(\"Valores únicos de la columna 'year':\")\n",
    "print(valores_unicos_year)"
   ]
  },
  {
   "cell_type": "code",
   "execution_count": 15,
   "metadata": {},
   "outputs": [
    {
     "data": {
      "image/png": "[encoded data removed]",
      "text/plain": [
       "<Figure size 1000x600 with 1 Axes>"
      ]
     },
     "metadata": {},
     "output_type": "display_data"
    }
   ],
   "source": [
    "# Graficar los años con mayor cantidad de reseñas\n",
    "reseñas_por_año = df['year'].value_counts().sort_index()\n",
    "\n",
    "# Crear el gráfico de barras\n",
    "plt.figure(figsize=(10, 6))\n",
    "reseñas_por_año.plot(kind='bar', color='#9370D8')\n",
    "plt.xlabel('Año')\n",
    "plt.ylabel('Cantidad de Reseñas')\n",
    "plt.title('Cantidad de Reseñas por Año')\n",
    "plt.xticks(rotation=45)  \n",
    "plt.grid(axis='y')  \n",
    "plt.tight_layout()\n",
    "plt.show()"
   ]
  },
  {
   "cell_type": "code",
   "execution_count": 26,
   "metadata": {},
   "outputs": [
    {
     "data": {
      "image/png": "[encoded data removed]",
      "text/plain": [
       "<Figure size 1000x600 with 1 Axes>"
      ]
     },
     "metadata": {},
     "output_type": "display_data"
    }
   ],
   "source": [
    "# Filtrar las puntuaciones de '5' en la columna 'stars'\n",
    "puntuaciones_5 = df[df['stars'] == 5]\n",
    "\n",
    "# Contar la cantidad de veces que cada negocio ha recibido puntuación de '5'\n",
    "top_negocios_puntuaciones_5 = puntuaciones_5['business_id'].value_counts().head(5)\n",
    "\n",
    "# Graficar el top 5 de negocios \n",
    "plt.figure(figsize=(10, 6))\n",
    "top_negocios_puntuaciones_5.plot(kind='bar', color='#9370D8')\n",
    "plt.xlabel('ID del Negocio')\n",
    "plt.ylabel('Cantidad de Puntuaciones de 5')\n",
    "plt.title('Top 5 de negocios mejor puntuados')\n",
    "plt.xticks(rotation=45, ha='right')\n",
    "plt.tight_layout()\n",
    "plt.show()"
   ]
  },
  {
   "cell_type": "markdown",
   "metadata": {},
   "source": [
    "### Conclusiones finales"
   ]
  },
  {
   "cell_type": "markdown",
   "metadata": {},
   "source": [
    "Para el análisis del dataset que tuvimos que abordar, nos enfrentamos a un conjunto de datos extenso con casi 7 millones de registros. Para facilitar el Análisis Exploratorio de Datos (EDA), decidimos limitarnos al primer millón de registros. Esto nos permitió trabajar con un DataFrame de dimensiones (1000000, 9), lo cual simplificó el proceso de análisis y nos brindó un enfoque más manejable y eficiente.Luego del análisis exploratorio de un fragmento del dataset, se pueden extraer las siguientes conclusiones: \n",
    "\n",
    "**Valores nulos, faltantes y duplicados** :\n",
    "- El dataset no presenta valores nulos ni faltantes, como así tampoco valores duplicados. Esto es un rasgo importante porque, de ser necesario, permite utilizar la totalidad de los campos para extraer información.\n",
    "\n",
    "**Outliers** :\n",
    "- Se identificaron outliers en las columnas 'useful' (0-539), 'funny' (0-254) y 'cool' (0-172). Estas columnas contienen datos numéricos que reflejan opiniones, sin embargo, el rango de puntuación abarca valores que van desde 0 hasta alrededor de 500. Esta variación sugiere la necesidad de tomar decisiones respecto a la interpretación de estos datos y definir un rango de puntuación adecuado.\n",
    "\n",
    "**Usuarios y Negocios** :\n",
    "- 542003 ususarios y 27095 negocios.\n",
    "\n",
    "**Período de tiempo que abarca el dataset** :\n",
    "- Este fragmento de 1.000.000, abarca el período comprendido entre **2005 y 2022**. \n",
    "- El período entre **2014 y 2019** el que mayor cantidad de reseñas tuvo.\n",
    " \n",
    "**Otros datos** :\n",
    "- Además, se identificó que el negocio cuyo id es **'GBTPC53ZrG1ZBY3DT8Mbcw'** es el más y mejor puntuado. Para esto se realizó un top 10 de los negocios más puntuados y un top 5 de aquellos con mejor puntuación. \n"
   ]
  }
 ],
 "metadata": {
  "kernelspec": {
   "display_name": "Python 3",
   "language": "python",
   "name": "python3"
  },
  "language_info": {
   "codemirror_mode": {
    "name": "ipython",
    "version": 3
   },
   "file_extension": ".py",
   "mimetype": "text/x-python",
   "name": "python",
   "nbconvert_exporter": "python",
   "pygments_lexer": "ipython3",
   "version": "3.11.5"
  }
 },
 "nbformat": 4,
 "nbformat_minor": 2
}
